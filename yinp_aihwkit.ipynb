{
  "nbformat": 4,
  "nbformat_minor": 0,
  "metadata": {
    "colab": {
      "name": "yinp_aihwkit.ipynb",
      "provenance": [],
      "authorship_tag": "ABX9TyPfWtLDonf9iDNufB2PUwYb",
      "include_colab_link": true
    },
    "kernelspec": {
      "name": "python3",
      "display_name": "Python 3"
    },
    "language_info": {
      "name": "python"
    }
  },
  "cells": [
    {
      "cell_type": "markdown",
      "metadata": {
        "id": "view-in-github",
        "colab_type": "text"
      },
      "source": [
        "<a href=\"https://colab.research.google.com/github/portoise-yin/aihwkit/blob/master/yinp_aihwkit.ipynb\" target=\"_parent\"><img src=\"https://colab.research.google.com/assets/colab-badge.svg\" alt=\"Open In Colab\"/></a>"
      ]
    },
    {
      "cell_type": "markdown",
      "metadata": {
        "id": "1o3VDXy-zE1S"
      },
      "source": [
        "#AI HWkit (AI Hardware Acceleration Kit)\n",
        "external project with RCOS, RPI Center for Open Souce\n"
      ]
    },
    {
      "cell_type": "code",
      "metadata": {
        "id": "BDyhp-PaJxf2",
        "colab": {
          "base_uri": "https://localhost:8080/",
          "height": 363
        },
        "outputId": "02c00080-19ab-4170-b160-9d33ca72a6d2"
      },
      "source": [
        "#import AI HWKit\n",
        "\n",
        "from aihwkit.nn import AnalogLinear\n",
        "from aihwkit.optim.analog_sgd import AnalogSGD\n",
        "\n",
        "from torch import Tensor\n",
        "from torch.nn.functional import mse_loss\n"
      ],
      "execution_count": 2,
      "outputs": [
        {
          "output_type": "error",
          "ename": "ModuleNotFoundError",
          "evalue": "ignored",
          "traceback": [
            "\u001b[0;31m---------------------------------------------------------------------------\u001b[0m",
            "\u001b[0;31mModuleNotFoundError\u001b[0m                       Traceback (most recent call last)",
            "\u001b[0;32m<ipython-input-2-317b56c3fe14>\u001b[0m in \u001b[0;36m<module>\u001b[0;34m()\u001b[0m\n\u001b[1;32m      1\u001b[0m \u001b[0;31m#import AI HWKit\u001b[0m\u001b[0;34m\u001b[0m\u001b[0;34m\u001b[0m\u001b[0;34m\u001b[0m\u001b[0m\n\u001b[1;32m      2\u001b[0m \u001b[0;34m\u001b[0m\u001b[0m\n\u001b[0;32m----> 3\u001b[0;31m \u001b[0;32mfrom\u001b[0m \u001b[0maihwkit\u001b[0m\u001b[0;34m.\u001b[0m\u001b[0mnn\u001b[0m \u001b[0;32mimport\u001b[0m \u001b[0mAnalogLinear\u001b[0m\u001b[0;34m\u001b[0m\u001b[0;34m\u001b[0m\u001b[0m\n\u001b[0m\u001b[1;32m      4\u001b[0m \u001b[0;32mfrom\u001b[0m \u001b[0maihwkit\u001b[0m\u001b[0;34m.\u001b[0m\u001b[0moptim\u001b[0m\u001b[0;34m.\u001b[0m\u001b[0manalog_sgd\u001b[0m \u001b[0;32mimport\u001b[0m \u001b[0mAnalogSGD\u001b[0m\u001b[0;34m\u001b[0m\u001b[0;34m\u001b[0m\u001b[0m\n\u001b[1;32m      5\u001b[0m \u001b[0;34m\u001b[0m\u001b[0m\n",
            "\u001b[0;31mModuleNotFoundError\u001b[0m: No module named 'aihwkit'",
            "",
            "\u001b[0;31m---------------------------------------------------------------------------\u001b[0;32m\nNOTE: If your import is failing due to a missing package, you can\nmanually install dependencies using either !pip or !apt.\n\nTo view examples of installing some common dependencies, click the\n\"Open Examples\" button below.\n\u001b[0;31m---------------------------------------------------------------------------\u001b[0m\n"
          ],
          "errorDetails": {
            "actions": [
              {
                "action": "open_url",
                "actionText": "Open Examples",
                "url": "/notebooks/snippets/importing_libraries.ipynb"
              }
            ]
          }
        }
      ]
    },
    {
      "cell_type": "code",
      "metadata": {
        "id": "r1HfkP9B7Pk1"
      },
      "source": [
        "#provided test code\n",
        "x = Tensor([[0.1, 0.2, 0.4, 0.3], [0.2, 0.1, 0.1, 0.3]])\n",
        "y = Tensor([[1.0, 0.5], [0.7, 0.3]])\n",
        "\n",
        "# Define a network using a single Analog layer.\n",
        "model = AnalogLinear(4, 2)\n",
        "\n",
        "# Use the analog-aware stochastic gradient descent optimizer.\n",
        "opt = AnalogSGD(model.parameters(), lr=0.1)\n",
        "opt.regroup_param_groups(model)\n",
        "\n",
        "# Train the network.\n",
        "for epoch in range(10):\n",
        "    pred = model(x)\n",
        "    loss = mse_loss(pred, y)\n",
        "    loss.backward()\n",
        "\n",
        "    opt.step()\n",
        "    print('Loss error: {:.16f}'.format(loss)) "
      ],
      "execution_count": null,
      "outputs": []
    }
  ]
}